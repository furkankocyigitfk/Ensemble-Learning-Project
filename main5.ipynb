{
  "cells": [
    {
      "cell_type": "code",
      "execution_count": null,
      "metadata": {
        "colab": {
          "base_uri": "https://localhost:8080/"
        },
        "id": "Zm2FNoHw_Ynh",
        "outputId": "c8696c5e-7021-4ef8-804e-f0cf081ad55d"
      },
      "outputs": [
        {
          "name": "stdout",
          "output_type": "stream",
          "text": [
            "Mounted at /content/drive\n"
          ]
        }
      ],
      "source": [
        "from google.colab import drive\n",
        "import os\n",
        "drive.mount('/content/drive')"
      ]
    },
    {
      "cell_type": "code",
      "execution_count": null,
      "metadata": {
        "colab": {
          "base_uri": "https://localhost:8080/"
        },
        "id": "2PF1pwfGAMGW",
        "outputId": "ee68c2a2-87b8-4a22-c5ed-c38f746e7dcb"
      },
      "outputs": [
        {
          "name": "stdout",
          "output_type": "stream",
          "text": [
            "/content\n",
            "/content/drive/MyDrive/Kolektif Öğrenme/project\n"
          ]
        }
      ],
      "source": [
        "!pwd\n",
        "os.chdir(\"drive/MyDrive/Kolektif Öğrenme/project\")\n",
        "!pwd"
      ]
    },
    {
      "cell_type": "code",
      "execution_count": null,
      "metadata": {
        "id": "TIT_Iq4uANuV"
      },
      "outputs": [],
      "source": [
        "import cv2\n",
        "import os\n",
        "import pandas as pd\n",
        "import numpy as np\n",
        "from sklearn.model_selection import train_test_split, RepeatedKFold\n",
        "import math\n",
        "from tensorflow.keras.applications.inception_v3 import InceptionV3\n",
        "from keras.layers import GlobalAveragePooling2D, Dense, MaxPooling2D, Flatten, Dropout, Input\n",
        "from keras.models import Model\n",
        "from itertools import combinations as comb\n",
        "from sklearn.ensemble import VotingClassifier, RandomForestClassifier\n",
        "import xgboost as xgb\n",
        "\n",
        "import warnings\n",
        "warnings.filterwarnings(\"ignore\")"
      ]
    },
    {
      "cell_type": "code",
      "execution_count": null,
      "metadata": {
        "id": "T8SA7z27AO3p"
      },
      "outputs": [],
      "source": [
        "IMAGE_SIZE = 128"
      ]
    },
    {
      "cell_type": "code",
      "execution_count": null,
      "metadata": {
        "id": "F0w-5msaASo_"
      },
      "outputs": [],
      "source": [
        "covid_folder = \"./covid/non-COVID\"\n",
        "non_covid_folder = \"./covid/COVID\""
      ]
    },
    {
      "cell_type": "code",
      "execution_count": null,
      "metadata": {
        "id": "sPJGwz37ATWq"
      },
      "outputs": [],
      "source": [
        "def resize_image(image, image_size):\n",
        "    return cv2.resize(image.copy(), image_size, interpolation=cv2.INTER_AREA)"
      ]
    },
    {
      "cell_type": "code",
      "execution_count": null,
      "metadata": {
        "id": "oFok154fAkuP"
      },
      "outputs": [],
      "source": [
        "def load_images_from_folder(folder):\n",
        "    images = []\n",
        "    for filename in os.listdir(folder):\n",
        "        img = cv2.imread(os.path.join(folder,filename))\n",
        "        if img is not None:\n",
        "            images.append(resize_image(img, (IMAGE_SIZE, IMAGE_SIZE)) / 255.)\n",
        "    return np.asarray(images)"
      ]
    },
    {
      "cell_type": "code",
      "execution_count": null,
      "metadata": {
        "id": "qdqJMrHYAmPN"
      },
      "outputs": [],
      "source": [
        "def get_inception():\n",
        "    inception_model = InceptionV3(\n",
        "    include_top=False,\n",
        "    weights=\"imagenet\",\n",
        "    input_shape=(IMAGE_SIZE, IMAGE_SIZE, 3),\n",
        "    )\n",
        "    x = inception_model.output\n",
        "    x = GlobalAveragePooling2D()(x)\n",
        "    x = Flatten()(x)\n",
        "    x = Dropout(0.5)(x)\n",
        "    x = Dense(128, activation=\"relu\")(x)\n",
        "    x = Dropout(0.5)(x)\n",
        "    output = Dense(1, activation=\"sigmoid\")(x)\n",
        "    model = Model(inputs=inception_model.input, outputs=output)\n",
        "    model.compile(optimizer=\"adam\", loss=\"binary_crossentropy\", metrics=[\"acc\"])\n",
        "\n",
        "    return inception_model, model"
      ]
    },
    {
      "cell_type": "code",
      "execution_count": null,
      "metadata": {
        "id": "Tlh0Ni1JAn5s"
      },
      "outputs": [],
      "source": [
        "def incept_rf(base_model, modely, train_imgs, test_imgs):\n",
        "    X_train_features = []\n",
        "    X_valid_features = []\n",
        "\n",
        "    feature_network = Model(base_model.input, modely.get_layer(list(filter(lambda x: \"flatten\" in x.name,  model.layers))[0].name).output)\n",
        "    X_train_features = feature_network.predict(train_imgs)\n",
        "    X_valid_features = feature_network.predict(test_imgs)\n",
        "    return X_train_features, X_valid_features"
      ]
    },
    {
      "cell_type": "code",
      "execution_count": null,
      "metadata": {
        "id": "7LDPr-DLApXa"
      },
      "outputs": [],
      "source": [
        "def generate_imp_space(X_train, y_train, X_test, imp_feature_size, foz):\n",
        "    imp_train_data = X_train.values\n",
        "    imp_test_data = X_test.values\n",
        "    y_train = pd.DataFrame(y_train)\n",
        "    d = len(X_train.columns)\n",
        "\n",
        "    for i in range(0, imp_feature_size*foz):\n",
        "        Xindis = np.random.permutation(d)\n",
        "        for j in range(0, d-(foz-1), foz):\n",
        "            sX = np.random.permutation(1)\n",
        "            s1 = sX[0]\n",
        "\n",
        "            s1data = X_train[X_train.index.isin(y_train[y_train == str(s1)].index)]\n",
        "            s2data = X_train[~X_train.index.isin(y_train[y_train == str(s1)].index)]\n",
        "            s1data = s1data.iloc[:, Xindis[j:j+(foz)]]\n",
        "            s2data = s2data.iloc[:, Xindis[j:j+(foz)]]\n",
        "\n",
        "            s1label = np.ones((s1data.values.shape[0], 1), dtype=int)\n",
        "            s2label = -1*np.ones((s2data.values.shape[0], 1), dtype=int)\n",
        "            Wdata = np.concatenate((s1data, s2data))\n",
        "\n",
        "            Wdata = x2fx(Wdata)\n",
        "            Wlabel = np.concatenate((s1label, s2label))\n",
        "            W = np.matmul(np.matmul(np.linalg.pinv(\n",
        "                np.matmul(Wdata.T, Wdata)), Wdata.T), Wlabel)\n",
        "\n",
        "            WW = x2fx(X_train.iloc[:, Xindis[j:j+(foz)]].values)\n",
        "            imp_train_data = np.concatenate(\n",
        "                (imp_train_data, np.matmul(WW, W)), axis=1)\n",
        "\n",
        "            TT = x2fx(X_test.iloc[:, Xindis[j:j+(foz)]].values)\n",
        "            imp_test_data = np.concatenate(\n",
        "                (imp_test_data, np.matmul(TT, W)), axis=1)\n",
        "\n",
        "    return imp_train_data, imp_test_data\n"
      ]
    },
    {
      "cell_type": "code",
      "execution_count": null,
      "metadata": {
        "id": "hOUgyFFAAqiV"
      },
      "outputs": [],
      "source": [
        "def x2fx(x, model=\"linear\"):\n",
        "    linear = np.c_[np.ones(x.shape[0]), x]\n",
        "    if model == \"linear\":\n",
        "        return linear\n",
        "    if model == \"purequadratic\":\n",
        "        return np.c_[linear, x**2]\n",
        "    interaction = np.hstack([x[:, i]*x[:, j]\n",
        "                            for i, j in comb(range(x.shape[1]), 2)]).T\n",
        "    if model == \"interaction\":\n",
        "        return np.c_[linear, interaction]\n",
        "    if model == \"quadratic\":\n",
        "        return np.c_[linear, interaction, x**2]"
      ]
    },
    {
      "cell_type": "code",
      "execution_count": null,
      "metadata": {
        "id": "z2FKZqleAsFB"
      },
      "outputs": [],
      "source": [
        "covid = load_images_from_folder(covid_folder)\n",
        "non_covid = load_images_from_folder(non_covid_folder)\n",
        "\n",
        "X = np.concatenate([covid, non_covid])\n",
        "y = np.concatenate([np.ones(covid.shape[0]), np.zeros(non_covid.shape[0])])\n",
        "\n",
        "del(covid)\n",
        "del(non_covid)"
      ]
    },
    {
      "cell_type": "code",
      "execution_count": null,
      "metadata": {
        "colab": {
          "base_uri": "https://localhost:8080/"
        },
        "id": "Fa7hvCqUA29c",
        "outputId": "620384de-4162-42ae-c429-1d8d5bfbfbcf"
      },
      "outputs": [
        {
          "name": "stdout",
          "output_type": "stream",
          "text": [
            "Downloading data from https://storage.googleapis.com/tensorflow/keras-applications/inception_v3/inception_v3_weights_tf_dim_ordering_tf_kernels_notop.h5\n",
            "87910968/87910968 [==============================] - 6s 0us/step\n",
            "Epoch 1/5\n",
            "20/20 [==============================] - 23s 242ms/step - loss: 0.6431 - acc: 0.6556\n",
            "Epoch 2/5\n",
            "20/20 [==============================] - 3s 146ms/step - loss: 0.3757 - acc: 0.8710\n",
            "Epoch 3/5\n",
            "20/20 [==============================] - 3s 147ms/step - loss: 0.2027 - acc: 0.9395\n",
            "Epoch 4/5\n",
            "20/20 [==============================] - 3s 146ms/step - loss: 0.1238 - acc: 0.9573\n",
            "Epoch 5/5\n",
            "20/20 [==============================] - 3s 146ms/step - loss: 0.0895 - acc: 0.9694\n",
            "39/39 [==============================] - 3s 20ms/step\n",
            "39/39 [==============================] - 2s 39ms/step\n",
            "Epoch 1/5\n",
            "20/20 [==============================] - 11s 206ms/step - loss: 0.6899 - acc: 0.6430\n",
            "Epoch 2/5\n",
            "20/20 [==============================] - 3s 147ms/step - loss: 0.3402 - acc: 0.8791\n",
            "Epoch 3/5\n",
            "20/20 [==============================] - 3s 148ms/step - loss: 0.1788 - acc: 0.9355\n",
            "Epoch 4/5\n",
            "20/20 [==============================] - 3s 149ms/step - loss: 0.0870 - acc: 0.9670\n",
            "Epoch 5/5\n",
            "20/20 [==============================] - 3s 148ms/step - loss: 0.0756 - acc: 0.9766\n",
            "39/39 [==============================] - 2s 21ms/step\n",
            "39/39 [==============================] - 1s 21ms/step\n",
            "Epoch 1/5\n",
            "20/20 [==============================] - 10s 148ms/step - loss: 0.5419 - acc: 0.7323\n",
            "Epoch 2/5\n",
            "20/20 [==============================] - 3s 148ms/step - loss: 0.3034 - acc: 0.8919\n",
            "Epoch 3/5\n",
            "20/20 [==============================] - 3s 148ms/step - loss: 0.1845 - acc: 0.9403\n",
            "Epoch 4/5\n",
            "20/20 [==============================] - 3s 148ms/step - loss: 0.1481 - acc: 0.9532\n",
            "Epoch 5/5\n",
            "20/20 [==============================] - 3s 148ms/step - loss: 0.0746 - acc: 0.9758\n",
            "39/39 [==============================] - 2s 23ms/step\n",
            "39/39 [==============================] - 1s 21ms/step\n",
            "Epoch 1/5\n",
            "20/20 [==============================] - 10s 148ms/step - loss: 0.8318 - acc: 0.5528\n",
            "Epoch 2/5\n",
            "20/20 [==============================] - 3s 148ms/step - loss: 0.7036 - acc: 0.5923\n",
            "Epoch 3/5\n",
            "20/20 [==============================] - 3s 148ms/step - loss: 0.5961 - acc: 0.6559\n",
            "Epoch 4/5\n",
            "20/20 [==============================] - 3s 149ms/step - loss: 0.4301 - acc: 0.8421\n",
            "Epoch 5/5\n",
            "20/20 [==============================] - 3s 148ms/step - loss: 0.2362 - acc: 0.9259\n",
            "39/39 [==============================] - 2s 24ms/step\n",
            "39/39 [==============================] - 1s 21ms/step\n",
            "Epoch 1/5\n",
            "20/20 [==============================] - 11s 152ms/step - loss: 0.6393 - acc: 0.7226\n",
            "Epoch 2/5\n",
            "20/20 [==============================] - 3s 148ms/step - loss: 0.2833 - acc: 0.9056\n",
            "Epoch 3/5\n",
            "20/20 [==============================] - 3s 148ms/step - loss: 0.1769 - acc: 0.9444\n",
            "Epoch 4/5\n",
            "20/20 [==============================] - 3s 148ms/step - loss: 0.1459 - acc: 0.9565\n",
            "Epoch 5/5\n",
            "20/20 [==============================] - 3s 149ms/step - loss: 0.1265 - acc: 0.9589\n",
            "39/39 [==============================] - 2s 24ms/step\n",
            "39/39 [==============================] - 1s 21ms/step\n",
            "Epoch 1/5\n",
            "20/20 [==============================] - 10s 148ms/step - loss: 0.5768 - acc: 0.7220\n",
            "Epoch 2/5\n",
            "20/20 [==============================] - 3s 147ms/step - loss: 0.2722 - acc: 0.9065\n",
            "Epoch 3/5\n",
            "20/20 [==============================] - 3s 147ms/step - loss: 0.1828 - acc: 0.9388\n",
            "Epoch 4/5\n",
            "20/20 [==============================] - 3s 148ms/step - loss: 0.1033 - acc: 0.9597\n",
            "Epoch 5/5\n",
            "20/20 [==============================] - 3s 148ms/step - loss: 0.0385 - acc: 0.9903\n",
            "39/39 [==============================] - 2s 21ms/step\n",
            "39/39 [==============================] - 1s 21ms/step\n",
            "Epoch 1/5\n",
            "20/20 [==============================] - 9s 147ms/step - loss: 0.6223 - acc: 0.6766\n",
            "Epoch 2/5\n",
            "20/20 [==============================] - 3s 147ms/step - loss: 0.3980 - acc: 0.8516\n",
            "Epoch 3/5\n",
            "20/20 [==============================] - 3s 148ms/step - loss: 0.2817 - acc: 0.9194\n",
            "Epoch 4/5\n",
            "20/20 [==============================] - 3s 148ms/step - loss: 0.2033 - acc: 0.9452\n",
            "Epoch 5/5\n",
            "20/20 [==============================] - 3s 148ms/step - loss: 0.2042 - acc: 0.9315\n",
            "39/39 [==============================] - 2s 20ms/step\n",
            "39/39 [==============================] - 1s 21ms/step\n",
            "Epoch 1/5\n",
            "20/20 [==============================] - 10s 149ms/step - loss: 0.5953 - acc: 0.6882\n",
            "Epoch 2/5\n",
            "20/20 [==============================] - 3s 148ms/step - loss: 0.2954 - acc: 0.8969\n",
            "Epoch 3/5\n",
            "20/20 [==============================] - 3s 147ms/step - loss: 0.1476 - acc: 0.9452\n",
            "Epoch 4/5\n",
            "20/20 [==============================] - 3s 148ms/step - loss: 0.0983 - acc: 0.9621\n",
            "Epoch 5/5\n",
            "20/20 [==============================] - 3s 148ms/step - loss: 0.0385 - acc: 0.9887\n",
            "39/39 [==============================] - 2s 21ms/step\n",
            "39/39 [==============================] - 1s 21ms/step\n",
            "Epoch 1/5\n",
            "20/20 [==============================] - 10s 147ms/step - loss: 0.5992 - acc: 0.7169\n",
            "Epoch 2/5\n",
            "20/20 [==============================] - 3s 147ms/step - loss: 0.2885 - acc: 0.9000\n",
            "Epoch 3/5\n",
            "20/20 [==============================] - 3s 147ms/step - loss: 0.2302 - acc: 0.9282\n",
            "Epoch 4/5\n",
            "20/20 [==============================] - 3s 148ms/step - loss: 0.1757 - acc: 0.9363\n",
            "Epoch 5/5\n",
            "20/20 [==============================] - 3s 148ms/step - loss: 0.0800 - acc: 0.9726\n",
            "39/39 [==============================] - 2s 24ms/step\n",
            "39/39 [==============================] - 1s 20ms/step\n",
            "Epoch 1/5\n",
            "20/20 [==============================] - 10s 148ms/step - loss: 0.7109 - acc: 0.5890\n",
            "Epoch 2/5\n",
            "20/20 [==============================] - 3s 148ms/step - loss: 0.4872 - acc: 0.8155\n",
            "Epoch 3/5\n",
            "20/20 [==============================] - 3s 148ms/step - loss: 0.2321 - acc: 0.9299\n",
            "Epoch 4/5\n",
            "20/20 [==============================] - 3s 147ms/step - loss: 0.1436 - acc: 0.9541\n",
            "Epoch 5/5\n",
            "20/20 [==============================] - 3s 148ms/step - loss: 0.1254 - acc: 0.9573\n",
            "39/39 [==============================] - 2s 24ms/step\n",
            "39/39 [==============================] - 1s 20ms/step\n"
          ]
        }
      ],
      "source": [
        "cv = RepeatedKFold(n_splits=2, n_repeats=5, random_state=42)\n",
        "foz = 4\n",
        "imp_feature_size = 1\n",
        "n_estimators = 3\n",
        "imp_rfc_acc = []\n",
        "rfc_acc = []\n",
        "\n",
        "for train_index, test_index in cv.split(X, y):\n",
        "    estimators_imp = []\n",
        "    estimators = []\n",
        "    X_train = X[train_index]\n",
        "    X_test = X[test_index]\n",
        "    y_train = y[train_index]\n",
        "    y_test = y[test_index]\n",
        "\n",
        "    inception_model, model = get_inception()\n",
        "    history = model.fit(X_train, y_train, epochs=5, batch_size=64)\n",
        "\n",
        "    X_train_features, X_valid_features = incept_rf(\n",
        "        inception_model, model, X_train, X_test)\n",
        "    X_train_features = pd.DataFrame(X_train_features)\n",
        "    X_valid_features = pd.DataFrame(X_valid_features)\n",
        "    d = len(X_train_features.columns)\n",
        "\n",
        "    for i in range(n_estimators):\n",
        "        imp_tr, imp_ts = generate_imp_space(\n",
        "            X_train_features, y_train, X_valid_features, imp_feature_size, foz)\n",
        "        imp_d = imp_tr.shape[1]\n",
        "\n",
        "        imp_sel_d = 2 * round(math.log2(imp_d))\n",
        "        sel_d = 2*round(math.log2(d))\n",
        "\n",
        "        imp_rfc = RandomForestClassifier(\n",
        "            max_features=imp_sel_d, n_estimators=50, random_state=42)\n",
        "        estimators_imp.append((\"imp_rfc\"+str(i), imp_rfc))\n",
        "        imp_rfc.fit(imp_tr, y_train)\n",
        "\n",
        "        rfc = RandomForestClassifier(\n",
        "            max_features=sel_d, n_estimators=50, random_state=42)\n",
        "        estimators.append((\"rfc\"+str(i), rfc))\n",
        "        rfc.fit(X_train_features, y_train)\n",
        "    \n",
        "    voting_imp = VotingClassifier(estimators=estimators_imp)\n",
        "    voting_imp.fit(imp_tr, y_train)\n",
        "\n",
        "    voting_rfc = VotingClassifier(estimators=estimators)\n",
        "    voting_rfc.fit(X_train_features, y_train)\n",
        "\n",
        "    imp_rfc_acc.append(voting_imp.score(imp_ts, y_test))\n",
        "    rfc_acc.append(voting_rfc.score(X_valid_features, y_test))\n"
      ]
    },
    {
      "cell_type": "code",
      "execution_count": null,
      "metadata": {
        "colab": {
          "background_save": true,
          "base_uri": "https://localhost:8080/"
        },
        "id": "PmbrNXmTA6oH",
        "outputId": "b2d7cc2b-b688-4f70-a82e-4d162e8f5620"
      },
      "outputs": [
        {
          "name": "stdout",
          "output_type": "stream",
          "text": [
            "Epoch 1/5\n",
            "20/20 [==============================] - 10s 153ms/step - loss: 0.5867 - acc: 0.7097\n",
            "Epoch 2/5\n",
            "20/20 [==============================] - 3s 150ms/step - loss: 0.2878 - acc: 0.8919\n",
            "Epoch 3/5\n",
            "20/20 [==============================] - 3s 150ms/step - loss: 0.1950 - acc: 0.9315\n",
            "Epoch 4/5\n",
            "20/20 [==============================] - 3s 150ms/step - loss: 0.1371 - acc: 0.9629\n",
            "Epoch 5/5\n",
            "20/20 [==============================] - 3s 149ms/step - loss: 0.0964 - acc: 0.9653\n",
            "39/39 [==============================] - 2s 21ms/step\n",
            "39/39 [==============================] - 1s 21ms/step\n",
            "Epoch 1/5\n",
            "20/20 [==============================] - 10s 148ms/step - loss: 0.5604 - acc: 0.7284\n",
            "Epoch 2/5\n",
            "20/20 [==============================] - 3s 148ms/step - loss: 0.2208 - acc: 0.9283\n",
            "Epoch 3/5\n",
            "20/20 [==============================] - 3s 152ms/step - loss: 0.1246 - acc: 0.9573\n",
            "Epoch 4/5\n",
            "20/20 [==============================] - 3s 152ms/step - loss: 0.1128 - acc: 0.9629\n",
            "Epoch 5/5\n",
            "20/20 [==============================] - 3s 150ms/step - loss: 0.0411 - acc: 0.9855\n",
            "39/39 [==============================] - 2s 24ms/step\n",
            "39/39 [==============================] - 1s 21ms/step\n",
            "Epoch 1/5\n",
            "20/20 [==============================] - 10s 148ms/step - loss: 0.7127 - acc: 0.5847\n",
            "Epoch 2/5\n",
            "20/20 [==============================] - 3s 147ms/step - loss: 0.4436 - acc: 0.8194\n",
            "Epoch 3/5\n",
            "20/20 [==============================] - 3s 148ms/step - loss: 0.1786 - acc: 0.9427\n",
            "Epoch 4/5\n",
            "20/20 [==============================] - 3s 148ms/step - loss: 0.0864 - acc: 0.9734\n",
            "Epoch 5/5\n",
            "20/20 [==============================] - 3s 150ms/step - loss: 0.0799 - acc: 0.9758\n",
            "39/39 [==============================] - 2s 22ms/step\n",
            "39/39 [==============================] - 1s 20ms/step\n",
            "Epoch 1/5\n",
            "20/20 [==============================] - 10s 149ms/step - loss: 0.6212 - acc: 0.6906\n",
            "Epoch 2/5\n",
            "20/20 [==============================] - 3s 148ms/step - loss: 0.2468 - acc: 0.9057\n",
            "Epoch 3/5\n",
            "20/20 [==============================] - 3s 148ms/step - loss: 0.1781 - acc: 0.9355\n",
            "Epoch 4/5\n",
            "20/20 [==============================] - 3s 149ms/step - loss: 0.1740 - acc: 0.9331\n",
            "Epoch 5/5\n",
            "20/20 [==============================] - 3s 149ms/step - loss: 0.0999 - acc: 0.9605\n",
            "39/39 [==============================] - 2s 24ms/step\n",
            "39/39 [==============================] - 1s 21ms/step\n",
            "Epoch 1/5\n",
            "20/20 [==============================] - 10s 146ms/step - loss: 0.7750 - acc: 0.5323\n",
            "Epoch 2/5\n",
            "20/20 [==============================] - 3s 147ms/step - loss: 0.6889 - acc: 0.6323\n",
            "Epoch 3/5\n",
            "20/20 [==============================] - 3s 147ms/step - loss: 0.4498 - acc: 0.8387\n",
            "Epoch 4/5\n",
            "20/20 [==============================] - 3s 147ms/step - loss: 0.2396 - acc: 0.9266\n",
            "Epoch 5/5\n",
            "20/20 [==============================] - 3s 148ms/step - loss: 0.2864 - acc: 0.9266\n",
            "39/39 [==============================] - 2s 24ms/step\n",
            "39/39 [==============================] - 1s 21ms/step\n",
            "Epoch 1/5\n",
            "20/20 [==============================] - 10s 148ms/step - loss: 0.6119 - acc: 0.6712\n",
            "Epoch 2/5\n",
            "20/20 [==============================] - 3s 148ms/step - loss: 0.2545 - acc: 0.9049\n",
            "Epoch 3/5\n",
            "20/20 [==============================] - 3s 148ms/step - loss: 0.1263 - acc: 0.9517\n",
            "Epoch 4/5\n",
            "20/20 [==============================] - 3s 148ms/step - loss: 0.0847 - acc: 0.9718\n",
            "Epoch 5/5\n",
            "20/20 [==============================] - 3s 148ms/step - loss: 0.0856 - acc: 0.9702\n",
            "39/39 [==============================] - 2s 24ms/step\n",
            "39/39 [==============================] - 1s 20ms/step\n",
            "Epoch 1/5\n",
            "20/20 [==============================] - 10s 148ms/step - loss: 0.6090 - acc: 0.7202\n",
            "Epoch 2/5\n",
            "20/20 [==============================] - 3s 148ms/step - loss: 0.2326 - acc: 0.9169\n",
            "Epoch 3/5\n",
            "20/20 [==============================] - 3s 148ms/step - loss: 0.2194 - acc: 0.9210\n",
            "Epoch 4/5\n",
            "20/20 [==============================] - 3s 148ms/step - loss: 0.1917 - acc: 0.9355\n",
            "Epoch 5/5\n",
            "20/20 [==============================] - 3s 148ms/step - loss: 0.0753 - acc: 0.9806\n",
            "39/39 [==============================] - 2s 24ms/step\n",
            "39/39 [==============================] - 1s 21ms/step\n",
            "Epoch 1/5\n",
            "20/20 [==============================] - 10s 147ms/step - loss: 0.7164 - acc: 0.5810\n",
            "Epoch 2/5\n",
            "20/20 [==============================] - 3s 148ms/step - loss: 0.3854 - acc: 0.8453\n",
            "Epoch 3/5\n",
            "20/20 [==============================] - 3s 148ms/step - loss: 0.1586 - acc: 0.9460\n",
            "Epoch 4/5\n",
            "20/20 [==============================] - 3s 148ms/step - loss: 0.1054 - acc: 0.9662\n",
            "Epoch 5/5\n",
            "20/20 [==============================] - 3s 148ms/step - loss: 0.0840 - acc: 0.9670\n",
            "39/39 [==============================] - 2s 21ms/step\n",
            "39/39 [==============================] - 1s 21ms/step\n",
            "Epoch 1/5\n",
            "20/20 [==============================] - 10s 147ms/step - loss: 0.6148 - acc: 0.7105\n",
            "Epoch 2/5\n",
            "20/20 [==============================] - 3s 148ms/step - loss: 0.3337 - acc: 0.8815\n",
            "Epoch 3/5\n",
            "20/20 [==============================] - 3s 148ms/step - loss: 0.1495 - acc: 0.9492\n",
            "Epoch 4/5\n",
            "20/20 [==============================] - 3s 148ms/step - loss: 0.1218 - acc: 0.9532\n",
            "Epoch 5/5\n",
            "20/20 [==============================] - 3s 148ms/step - loss: 0.1897 - acc: 0.9565\n",
            "39/39 [==============================] - 2s 20ms/step\n",
            "39/39 [==============================] - 1s 20ms/step\n",
            "Epoch 1/5\n",
            "20/20 [==============================] - 10s 147ms/step - loss: 0.6775 - acc: 0.6205\n",
            "Epoch 2/5\n",
            "20/20 [==============================] - 3s 148ms/step - loss: 0.3904 - acc: 0.8582\n",
            "Epoch 3/5\n",
            "20/20 [==============================] - 3s 148ms/step - loss: 0.2456 - acc: 0.9186\n",
            "Epoch 4/5\n",
            "20/20 [==============================] - 3s 148ms/step - loss: 0.1539 - acc: 0.9468\n",
            "Epoch 5/5\n",
            "20/20 [==============================] - 3s 149ms/step - loss: 0.1016 - acc: 0.9702\n",
            "39/39 [==============================] - 2s 21ms/step\n",
            "39/39 [==============================] - 1s 21ms/step\n"
          ]
        }
      ],
      "source": [
        "cv = RepeatedKFold(n_splits=2, n_repeats=5, random_state=42)\n",
        "foz = 4\n",
        "imp_feature_size = 1\n",
        "n_estimators = 3\n",
        "imp_xgbc_acc = []\n",
        "xgbc_acc = []\n",
        "y_pred_imp_rfc = []\n",
        "for train_index, test_index in cv.split(X, y):\n",
        "    estimators_imp = []\n",
        "    estimators = []\n",
        "    X_train = X[train_index]\n",
        "    X_test = X[test_index]\n",
        "    y_train = y[train_index]\n",
        "    y_test = y[test_index]\n",
        "\n",
        "    inception_model, model = get_inception()\n",
        "    history = model.fit(X_train, y_train, epochs=5, batch_size=64)\n",
        "\n",
        "    X_train_features, X_valid_features = incept_rf(\n",
        "        inception_model, model, X_train, X_test)\n",
        "    X_train_features = pd.DataFrame(X_train_features)\n",
        "    X_valid_features = pd.DataFrame(X_valid_features)\n",
        "    d = len(X_train_features.columns)\n",
        "\n",
        "    for i in range(n_estimators):\n",
        "        imp_tr, imp_ts = generate_imp_space(\n",
        "            X_train_features, y_train, X_valid_features, imp_feature_size, foz)\n",
        "        imp_d = imp_tr.shape[1]\n",
        "\n",
        "        imp_sel_d = 2 * round(math.log2(imp_d))\n",
        "        sel_d = 2*round(math.log2(d))\n",
        "\n",
        "        imp_xgbc = xgb.XGBClassifier(\n",
        "            max_features=imp_sel_d, n_estimators=50, random_state=42)\n",
        "        estimators_imp.append((\"imp_xgbc\"+str(i), imp_rfc))\n",
        "        imp_xgbc.fit(imp_tr, y_train)\n",
        "\n",
        "        xgbc = xgb.XGBClassifier(\n",
        "            max_features=sel_d, n_estimators=50, random_state=42)\n",
        "        estimators.append((\"xgbc\"+str(i), rfc))\n",
        "        xgbc.fit(X_train_features, y_train)\n",
        "    \n",
        "    voting_imp = VotingClassifier(estimators=estimators_imp)\n",
        "    voting_imp.fit(imp_tr, y_train)\n",
        "\n",
        "    voting_xgbc = VotingClassifier(estimators=estimators)\n",
        "    voting_xgbc.fit(X_train_features, y_train)\n",
        "\n",
        "    imp_xgbc_acc.append(voting_imp.score(imp_ts, y_test))\n",
        "    xgbc_acc.append(voting_xgbc.score(X_valid_features, y_test))"
      ]
    },
    {
      "cell_type": "code",
      "execution_count": null,
      "metadata": {
        "colab": {
          "background_save": true
        },
        "id": "pQqPJTT8A8xH",
        "outputId": "76de649e-b1a6-4129-dec3-d66ce4476b92"
      },
      "outputs": [
        {
          "name": "stdout",
          "output_type": "stream",
          "text": [
            "[0.8493150684931506, 0.9233870967741935, 0.9081385979049154, 0.8548387096774194, 0.830781627719581, 0.8145161290322581, 0.8614020950846092, 0.9024193548387097, 0.8686543110394843, 0.9266129032258065]\n"
          ]
        }
      ],
      "source": [
        "print(imp_xgbc_acc)"
      ]
    },
    {
      "cell_type": "code",
      "execution_count": null,
      "metadata": {
        "colab": {
          "background_save": true
        },
        "id": "o5WLajFQA_Xb",
        "outputId": "0435da81-7bf2-4938-e439-a2f029bab5c8"
      },
      "outputs": [
        {
          "name": "stdout",
          "output_type": "stream",
          "text": [
            "[0.8493150684931506, 0.9201612903225806, 0.9008863819500403, 0.8580645161290322, 0.8372280419016922, 0.8096774193548387, 0.863013698630137, 0.9048387096774193, 0.8694601128122482, 0.9274193548387096]\n"
          ]
        }
      ],
      "source": [
        "print(xgbc_acc)"
      ]
    },
    {
      "cell_type": "code",
      "execution_count": null,
      "metadata": {
        "colab": {
          "background_save": true
        },
        "id": "RJXUucz2BAtA",
        "outputId": "dbad71e6-6ff1-4f20-f5c6-55c1f4ffb715"
      },
      "outputs": [
        {
          "name": "stdout",
          "output_type": "stream",
          "text": [
            "[0.9121676067687349, 0.8580645161290322, 0.8654311039484287, 0.825, 0.8420628525382756, 0.8379032258064516, 0.8847703464947623, 0.8766129032258064, 0.8597904915390814, 0.8637096774193549]\n"
          ]
        }
      ],
      "source": [
        "print(imp_rfc_acc)"
      ]
    },
    {
      "cell_type": "code",
      "execution_count": null,
      "metadata": {
        "colab": {
          "background_save": true
        },
        "id": "PP7qZe-HBDAx",
        "outputId": "6a3130ee-e8c4-416a-ae09-f0a839939691"
      },
      "outputs": [
        {
          "name": "stdout",
          "output_type": "stream",
          "text": [
            "[0.9097502014504432, 0.8653225806451613, 0.8718775181305399, 0.825, 0.8533440773569702, 0.8524193548387097, 0.8887993553585818, 0.8758064516129033, 0.8614020950846092, 0.8685483870967742]\n"
          ]
        }
      ],
      "source": [
        "print(rfc_acc)"
      ]
    }
  ],
  "metadata": {
    "accelerator": "GPU",
    "colab": {
      "provenance": []
    },
    "gpuClass": "standard",
    "kernelspec": {
      "display_name": "Python 3",
      "name": "python3"
    },
    "language_info": {
      "name": "python"
    }
  },
  "nbformat": 4,
  "nbformat_minor": 0
}